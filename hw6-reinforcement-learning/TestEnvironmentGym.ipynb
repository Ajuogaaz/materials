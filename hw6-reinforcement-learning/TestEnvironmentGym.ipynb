{
 "cells": [
  {
   "cell_type": "markdown",
   "metadata": {},
   "source": [
    "# Introduction\n",
    "This Jupyter notebook should help you a little bit with setting up HW6.\n",
    "<br>\n",
    "First we load an example Environment \"FrozenLake-v0\" (see https://reinforcementlearning4.fun/2019/06/16/gym-tutorial-frozen-lake/ ) and we explore how openAI works. Feel free to write you own little adaption of the code to become more familair with this.\n",
    "Afterwards I have copied the pytests for Multi-Armed-Bandit (MBA) and Q-Learning into this jupyter notebook and you can run those tests within this jupyter notebook. "
   ]
  },
  {
   "cell_type": "code",
   "execution_count": 110,
   "metadata": {},
   "outputs": [
    {
     "name": "stdout",
     "output_type": "stream",
     "text": [
      "The autoreload extension is already loaded. To reload it, use:\n",
      "  %reload_ext autoreload\n"
     ]
    }
   ],
   "source": [
    "# frozen-lake-ex1.py\n",
    "import gym # loading the Gym library        \n",
    "import numpy as np\n",
    "import matplotlib.pyplot as plt\n",
    "\n",
    "# When developping modules in python you want to automatically reload them when changed.\n",
    "# Please have a look here how this works:\n",
    "# https://switowski.com/blog/ipython-autoreload\n",
    "%load_ext autoreload\n",
    "%autoreload 2"
   ]
  },
  {
   "cell_type": "code",
   "execution_count": 111,
   "metadata": {},
   "outputs": [
    {
     "name": "stdout",
     "output_type": "stream",
     "text": [
      "What is the Action Space:\n",
      "Discrete(4)\n",
      "What is size of the Action Space:\n",
      "4\n",
      "Draw a few random samples: \n",
      "1\n",
      "2\n",
      "3\n",
      "1\n",
      "2\n"
     ]
    }
   ],
   "source": [
    "env = gym.make(\"FrozenLake-v0\")\n",
    "env.reset()    \n",
    "\n",
    "print(\"What is the Action Space:\")\n",
    "print(env.action_space)\n",
    "print(\"What is size of the Action Space:\")\n",
    "print(env.action_space.n)\n",
    "\n",
    "print(\"Draw a few random samples: \")\n",
    "for k in range(0,5):\n",
    "    print(env.action_space.sample())"
   ]
  },
  {
   "cell_type": "code",
   "execution_count": 112,
   "metadata": {},
   "outputs": [
    {
     "name": "stdout",
     "output_type": "stream",
     "text": [
      "What is the observation space?\n",
      "Discrete(16)\n",
      "0\n",
      "16\n"
     ]
    }
   ],
   "source": [
    "print(\"What is the observation space?\")\n",
    "print(env.observation_space)\n",
    "print(env.observation_space.sample())\n",
    "print(env.observation_space.n)"
   ]
  },
  {
   "cell_type": "code",
   "execution_count": 113,
   "metadata": {},
   "outputs": [
    {
     "name": "stdout",
     "output_type": "stream",
     "text": [
      "\n",
      "\u001b[41mS\u001b[0mFFF\n",
      "FHFH\n",
      "FFFH\n",
      "HFFG\n"
     ]
    }
   ],
   "source": [
    "env.render()"
   ]
  },
  {
   "cell_type": "code",
   "execution_count": 114,
   "metadata": {},
   "outputs": [
    {
     "name": "stdout",
     "output_type": "stream",
     "text": [
      "\n",
      "\u001b[41mS\u001b[0mFFF\n",
      "FHFH\n",
      "FFFH\n",
      "HFFG\n",
      "  (Down)\n",
      "\u001b[41mS\u001b[0mFFF\n",
      "FHFH\n",
      "FFFH\n",
      "HFFG\n",
      "  (Right)\n",
      "\u001b[41mS\u001b[0mFFF\n",
      "FHFH\n",
      "FFFH\n",
      "HFFG\n",
      "  (Right)\n",
      "SFFF\n",
      "\u001b[41mF\u001b[0mHFH\n",
      "FFFH\n",
      "HFFG\n",
      "  (Up)\n",
      "\u001b[41mS\u001b[0mFFF\n",
      "FHFH\n",
      "FFFH\n",
      "HFFG\n",
      "  (Right)\n",
      "S\u001b[41mF\u001b[0mFF\n",
      "FHFH\n",
      "FFFH\n",
      "HFFG\n",
      "  (Down)\n",
      "\u001b[41mS\u001b[0mFFF\n",
      "FHFH\n",
      "FFFH\n",
      "HFFG\n",
      "  (Left)\n",
      "SFFF\n",
      "\u001b[41mF\u001b[0mHFH\n",
      "FFFH\n",
      "HFFG\n",
      "  (Down)\n",
      "SFFF\n",
      "FHFH\n",
      "\u001b[41mF\u001b[0mFFH\n",
      "HFFG\n",
      "  (Right)\n",
      "SFFF\n",
      "\u001b[41mF\u001b[0mHFH\n",
      "FFFH\n",
      "HFFG\n",
      "  (Down)\n",
      "SFFF\n",
      "FHFH\n",
      "\u001b[41mF\u001b[0mFFH\n",
      "HFFG\n"
     ]
    }
   ],
   "source": [
    "MAX_ITERATIONS = 10\n",
    "env.render()\n",
    "for i in range(MAX_ITERATIONS):\n",
    "    random_action = env.action_space.sample()\n",
    "    new_state, reward, done, info = env.step(\n",
    "       random_action)\n",
    "    env.render()\n",
    "    if done:\n",
    "        break"
   ]
  },
  {
   "cell_type": "markdown",
   "metadata": {},
   "source": [
    "# Build an environment that is not slippery to see the reward"
   ]
  },
  {
   "cell_type": "code",
   "execution_count": 115,
   "metadata": {},
   "outputs": [
    {
     "name": "stdout",
     "output_type": "stream",
     "text": [
      "---- winning sequence ------ \n",
      "['Right', 'Right', 'Down', 'Down', 'Down', 'Right']\n",
      "\n",
      "\u001b[41mS\u001b[0mFFF\n",
      "FHFH\n",
      "FFFH\n",
      "HFFG\n",
      "\n",
      "  (Right)\n",
      "S\u001b[41mF\u001b[0mFF\n",
      "FHFH\n",
      "FFFH\n",
      "HFFG\n",
      "Reward: 0.00\n",
      "{'prob': 1.0}\n",
      "\n",
      "  (Right)\n",
      "SF\u001b[41mF\u001b[0mF\n",
      "FHFH\n",
      "FFFH\n",
      "HFFG\n",
      "Reward: 0.00\n",
      "{'prob': 1.0}\n",
      "\n",
      "  (Down)\n",
      "SFFF\n",
      "FH\u001b[41mF\u001b[0mH\n",
      "FFFH\n",
      "HFFG\n",
      "Reward: 0.00\n",
      "{'prob': 1.0}\n",
      "\n",
      "  (Down)\n",
      "SFFF\n",
      "FHFH\n",
      "FF\u001b[41mF\u001b[0mH\n",
      "HFFG\n",
      "Reward: 0.00\n",
      "{'prob': 1.0}\n",
      "\n",
      "  (Down)\n",
      "SFFF\n",
      "FHFH\n",
      "FFFH\n",
      "HF\u001b[41mF\u001b[0mG\n",
      "Reward: 0.00\n",
      "{'prob': 1.0}\n",
      "\n",
      "  (Right)\n",
      "SFFF\n",
      "FHFH\n",
      "FFFH\n",
      "HFF\u001b[41mG\u001b[0m\n",
      "Reward: 1.00\n",
      "{'prob': 1.0}\n",
      "\n"
     ]
    }
   ],
   "source": [
    "actions = {\n",
    "    'Left': 0,\n",
    "    'Down': 1,\n",
    "    'Right': 2, \n",
    "    'Up': 3\n",
    "}\n",
    " \n",
    "print('---- winning sequence ------ ')\n",
    "winning_sequence = (2 * ['Right']) + (3 * ['Down']) + ['Right']\n",
    "print(winning_sequence)\n",
    " \n",
    "env = gym.make(\"FrozenLake-v0\",is_slippery=False) \n",
    "# TASK: set is_slippery to false and observe what happens\n",
    "env.reset()\n",
    "env.render()\n",
    " \n",
    "for a in winning_sequence:\n",
    "    new_state, reward, done, info = env.step(actions[a])\n",
    "    print()\n",
    "    env.render()\n",
    "    print(\"Reward: {:.2f}\".format(reward))\n",
    "    print(info)\n",
    "    if done:\n",
    "        break  \n",
    " \n",
    "print()"
   ]
  },
  {
   "cell_type": "markdown",
   "metadata": {},
   "source": [
    "# Implement MultiArmedBandit"
   ]
  },
  {
   "cell_type": "markdown",
   "metadata": {},
   "source": [
    "#### First Step: Go to src \"MultiArmedBandit\" and make the changes in code, then come back here and see the effects of the changes live"
   ]
  },
  {
   "cell_type": "code",
   "execution_count": 116,
   "metadata": {},
   "outputs": [],
   "source": [
    "from src import MultiArmedBandit"
   ]
  },
  {
   "cell_type": "markdown",
   "metadata": {},
   "source": [
    "For passing the FrozenLake we only have to implement the .fit functions. So it might be a good idea to start with this"
   ]
  },
  {
   "cell_type": "code",
   "execution_count": 117,
   "metadata": {},
   "outputs": [
    {
     "name": "stdout",
     "output_type": "stream",
     "text": [
      "[[0.         0.00655022 0.00654854 0.00512821]\n",
      " [0.         0.00655022 0.00654854 0.00512821]\n",
      " [0.         0.00655022 0.00654854 0.00512821]\n",
      " [0.         0.00655022 0.00654854 0.00512821]\n",
      " [0.         0.00655022 0.00654854 0.00512821]\n",
      " [0.         0.00655022 0.00654854 0.00512821]\n",
      " [0.         0.00655022 0.00654854 0.00512821]\n",
      " [0.         0.00655022 0.00654854 0.00512821]\n",
      " [0.         0.00655022 0.00654854 0.00512821]\n",
      " [0.         0.00655022 0.00654854 0.00512821]\n",
      " [0.         0.00655022 0.00654854 0.00512821]\n",
      " [0.         0.00655022 0.00654854 0.00512821]\n",
      " [0.         0.00655022 0.00654854 0.00512821]\n",
      " [0.         0.00655022 0.00654854 0.00512821]\n",
      " [0.         0.00655022 0.00654854 0.00512821]\n",
      " [0.         0.00655022 0.00654854 0.00512821]]\n",
      "[0.   0.   0.   0.   0.   0.   0.   0.   0.   0.02 0.   0.02 0.02 0.01\n",
      " 0.   0.01 0.01 0.03 0.   0.01 0.   0.01 0.01 0.02 0.   0.   0.01 0.\n",
      " 0.   0.   0.   0.   0.02 0.02 0.   0.02 0.01 0.01 0.01 0.01 0.   0.01\n",
      " 0.   0.   0.   0.01 0.   0.   0.   0.02 0.01 0.   0.   0.   0.02 0.\n",
      " 0.   0.   0.   0.01 0.   0.01 0.   0.02 0.   0.01 0.01 0.01 0.   0.\n",
      " 0.   0.02 0.   0.01 0.02 0.01 0.02 0.01 0.02 0.01 0.01 0.   0.   0.\n",
      " 0.01 0.   0.   0.   0.01 0.01 0.02 0.   0.   0.   0.   0.   0.   0.\n",
      " 0.   0.  ]\n"
     ]
    }
   ],
   "source": [
    "np.random.seed(0)\n",
    "\n",
    "env = gym.make('FrozenLake-v0')\n",
    "env.seed(0)\n",
    "\n",
    "agent = MultiArmedBandit(epsilon=0.2)\n",
    "state_action_values, rewards = agent.fit(env, steps=10000)\n",
    "\n",
    "assert state_action_values.shape == (16, 4)\n",
    "assert len(rewards) == 100\n",
    "\n",
    "print(state_action_values)\n",
    "print(rewards)"
   ]
  },
  {
   "cell_type": "markdown",
   "metadata": {},
   "source": [
    "## Now we implement the predict function, for that we use a different gym environment"
   ]
  },
  {
   "cell_type": "code",
   "execution_count": 118,
   "metadata": {},
   "outputs": [],
   "source": [
    "np.random.seed(0)\n",
    "\n",
    "env = gym.make('SlotMachines-v0', n_machines=10, mean_range=(-10, 10), std_range=(5, 10))\n",
    "means = np.array([m.mean for m in env.machines])"
   ]
  },
  {
   "cell_type": "code",
   "execution_count": 119,
   "metadata": {},
   "outputs": [
    {
     "name": "stdout",
     "output_type": "stream",
     "text": [
      "[ 0.97627008  4.30378733  2.05526752  0.89766366 -1.52690401  2.91788226\n",
      " -1.24825577  7.83546002  9.27325521 -2.33116962]\n"
     ]
    },
    {
     "data": {
      "text/plain": [
       "[<matplotlib.lines.Line2D at 0x7f8a284bb1f0>]"
      ]
     },
     "execution_count": 119,
     "metadata": {},
     "output_type": "execute_result"
    },
    {
     "data": {
      "image/png": "[encoded data removed]",
      "text/plain": [
       "<Figure size 432x288 with 1 Axes>"
      ]
     },
     "metadata": {
      "needs_background": "light"
     },
     "output_type": "display_data"
    }
   ],
   "source": [
    "print(means)\n",
    "plt.plot(means,'x')"
   ]
  },
  {
   "cell_type": "code",
   "execution_count": 120,
   "metadata": {},
   "outputs": [],
   "source": [
    "agent = MultiArmedBandit(epsilon=0.2)\n",
    "state_action_values, rewards = agent.fit(env, steps=10000)\n",
    "\n",
    "assert state_action_values.shape == (1, 10)\n",
    "assert len(rewards) == 100\n",
    "assert np.argmax(means) == np.argmax(state_action_values)\n",
    "\n",
    "states, actions, rewards_predict = agent.predict(env, state_action_values)\n",
    "assert len(states) == 1\n",
    "assert len(actions) == 1 and actions[0] == np.argmax(means)\n",
    "assert len(rewards_predict) == 1"
   ]
  },
  {
   "cell_type": "markdown",
   "metadata": {},
   "source": [
    "# Implement Q-Learning"
   ]
  },
  {
   "cell_type": "markdown",
   "metadata": {},
   "source": [
    "## Test the desterimnistic environment for Q-learning\n",
    "This requires implementation of the \"predict\" function"
   ]
  },
  {
   "cell_type": "code",
   "execution_count": 121,
   "metadata": {},
   "outputs": [
    {
     "data": {
      "text/plain": [
       "[0]"
      ]
     },
     "execution_count": 121,
     "metadata": {},
     "output_type": "execute_result"
    }
   ],
   "source": [
    "\"\"\"\n",
    "Tests that the QLearning implementation successfully navigates a\n",
    "deterministic environment with provided state-action-values.\n",
    "\"\"\"\n",
    "from src import QLearning\n",
    "\n",
    "np.random.seed(0)\n",
    "\n",
    "env = gym.make('FrozonLakeNoSlippery-v0')\n",
    "env.reset()\n",
    "env.seed(0)"
   ]
  },
  {
   "cell_type": "code",
   "execution_count": 122,
   "metadata": {},
   "outputs": [
    {
     "name": "stdout",
     "output_type": "stream",
     "text": [
      "\n",
      "\u001b[41mS\u001b[0mFFF\n",
      "FHFH\n",
      "FFFH\n",
      "HFFG\n"
     ]
    }
   ],
   "source": [
    "env.render()"
   ]
  },
  {
   "cell_type": "code",
   "execution_count": 123,
   "metadata": {},
   "outputs": [],
   "source": [
    "agent = QLearning(epsilon=0.5, discount=0.95)\n",
    "state_action_values = np.array([\n",
    "    [0.0, 0.7, 0.3, 0.0],\n",
    "    [0.0, 1.0, 0.0, 0.0],\n",
    "    [0.0, 0.0, 1.0, 0.0],\n",
    "    [0.0, 1.0, 0.0, 0.0],\n",
    "    [0.0, 0.51, 0.49, 0.0],\n",
    "    [0.0, 0.0, 0.0, 0.0],\n",
    "    [0.5, 0.0, 0.5, 0.0],\n",
    "    [0.0, 0.0, 0.0, 0.0],\n",
    "    [0.0, 0.2, 0.8, 0.0],\n",
    "    [0.0, 0.2, 0.8, 0.0],\n",
    "    [0.0, 0.6, 0.4, 0.0],\n",
    "    [0.0, 0.0, 0.0, 0.0],\n",
    "    [0.0, 0.0, 0.0, 0.0],\n",
    "    [1.0, 0.0, 0.0, 0.0],\n",
    "    [0.0, 0.0, 1.0, 0.0],\n",
    "    [0.0, 0.0, 0.0, 0.0]\n",
    "])\n",
    "\n",
    "states, actions, rewards = agent.predict(env, state_action_values)\n",
    "assert np.all(states == np.array([4, 8, 9, 10, 14, 15]))\n",
    "assert np.all(actions == np.array([1, 1, 2, 2, 1, 2]))\n",
    "assert np.all(rewards == np.array([0, 0, 0, 0, 0, 1]))"
   ]
  },
  {
   "cell_type": "markdown",
   "metadata": {},
   "source": [
    "## Now implement the FIT function for Q-Learning "
   ]
  },
  {
   "cell_type": "code",
   "execution_count": 124,
   "metadata": {},
   "outputs": [
    {
     "data": {
      "text/plain": [
       "[0]"
      ]
     },
     "execution_count": 124,
     "metadata": {},
     "output_type": "execute_result"
    }
   ],
   "source": [
    "\"\"\"\n",
    "Tests that the QLearning implementation successfully learns the\n",
    "FrozenLake-v0 environment.\n",
    "\"\"\"\n",
    "from src import QLearning\n",
    "\n",
    "np.random.seed(0)\n",
    "\n",
    "env = gym.make('FrozenLake-v0')\n",
    "env.reset()\n",
    "env.seed(0)"
   ]
  },
  {
   "cell_type": "code",
   "execution_count": 125,
   "metadata": {},
   "outputs": [
    {
     "name": "stdout",
     "output_type": "stream",
     "text": [
      "\n",
      "\u001b[41mS\u001b[0mFFF\n",
      "FHFH\n",
      "FFFH\n",
      "HFFG\n"
     ]
    }
   ],
   "source": [
    "env.render()"
   ]
  },
  {
   "cell_type": "code",
   "execution_count": 126,
   "metadata": {},
   "outputs": [
    {
     "name": "stdout",
     "output_type": "stream",
     "text": [
      "State Action Value (shape) (16, 4)\n",
      "Action count (shape): (16, 4)\n"
     ]
    }
   ],
   "source": [
    "agent = QLearning(epsilon=0.2, discount=0.95)\n",
    "state_action_values, rewards = agent.fit(env, steps=10000)\n",
    "\n",
    "state_values = np.max(state_action_values, axis=1)\n",
    "\n",
    "assert state_action_values.shape == (16, 4)\n",
    "assert len(rewards) == 100\n",
    "\n",
    "assert np.allclose(state_values[np.array([5, 7, 11, 12, 15])], np.zeros(5))\n",
    "assert np.all(state_values[np.array([0, 1, 2, 3, 4, 6, 8, 9, 10, 13, 14])] > 0)"
   ]
  },
  {
   "cell_type": "code",
   "execution_count": 127,
   "metadata": {},
   "outputs": [
    {
     "name": "stdout",
     "output_type": "stream",
     "text": [
      "[[0.00960789 0.01228849 0.01085123 0.00614481]\n",
      " [0.00569692 0.00808829 0.0110898  0.01645868]\n",
      " [0.03112818 0.02270186 0.02496603 0.01437928]\n",
      " [0.00902774 0.0060459  0.00462023 0.01786018]\n",
      " [0.02798165 0.03052711 0.01283507 0.0078561 ]\n",
      " [0.         0.         0.         0.        ]\n",
      " [0.06509822 0.02555111 0.05716095 0.00914774]\n",
      " [0.         0.         0.         0.        ]\n",
      " [0.02329913 0.06674491 0.03750659 0.07653262]\n",
      " [0.0699447  0.16974907 0.14452346 0.07438071]\n",
      " [0.19484704 0.15225591 0.14858419 0.06399919]\n",
      " [0.         0.         0.         0.        ]\n",
      " [0.         0.         0.         0.        ]\n",
      " [0.09386677 0.16338306 0.27823305 0.16990609]\n",
      " [0.25290769 0.32686855 0.30253787 0.45836909]\n",
      " [0.         0.         0.         0.        ]]\n",
      "(100,)\n",
      "[0.   0.   0.01 0.02 0.01 0.   0.   0.   0.01 0.   0.01 0.   0.01 0.\n",
      " 0.01 0.   0.   0.   0.   0.01 0.   0.   0.01 0.03 0.   0.   0.   0.\n",
      " 0.   0.01 0.01 0.01 0.01 0.   0.02 0.02 0.   0.   0.01 0.   0.   0.01\n",
      " 0.   0.01 0.01 0.   0.   0.   0.   0.01 0.   0.02 0.   0.   0.   0.\n",
      " 0.03 0.   0.01 0.   0.02 0.01 0.   0.01 0.   0.01 0.01 0.02 0.   0.03\n",
      " 0.   0.01 0.   0.   0.01 0.01 0.02 0.01 0.02 0.   0.01 0.   0.   0.\n",
      " 0.   0.01 0.01 0.01 0.01 0.   0.   0.   0.01 0.   0.02 0.   0.   0.\n",
      " 0.   0.  ]\n"
     ]
    }
   ],
   "source": [
    "print(state_action_values)\n",
    "print(rewards.shape)\n",
    "print(rewards)"
   ]
  },
  {
   "cell_type": "markdown",
   "metadata": {},
   "source": [
    "# Now try out if it works for 'SlotMachines'"
   ]
  },
  {
   "cell_type": "code",
   "execution_count": 128,
   "metadata": {},
   "outputs": [
    {
     "name": "stdout",
     "output_type": "stream",
     "text": [
      "State Action Value (shape) (1, 10)\n",
      "Action count (shape): (1, 10)\n"
     ]
    }
   ],
   "source": [
    "\"\"\"\n",
    "Tests that the Qlearning implementation successfully finds the slot\n",
    "machine with the largest expected reward.\n",
    "\"\"\"\n",
    "from src import QLearning\n",
    "\n",
    "np.random.seed(0)\n",
    "\n",
    "env = gym.make('SlotMachines-v0', n_machines=10, mean_range=(-10, 10), std_range=(5, 10))\n",
    "env.seed(0)\n",
    "means = np.array([m.mean for m in env.machines])\n",
    "\n",
    "agent = QLearning(epsilon=0.2, discount=0)\n",
    "state_action_values, rewards = agent.fit(env, steps=10000)\n",
    "\n",
    "assert state_action_values.shape == (1, 10)\n",
    "assert len(rewards) == 100\n",
    "assert np.argmax(means) == np.argmax(state_action_values)\n",
    "\n",
    "states, actions, rewards = agent.predict(env, state_action_values)\n",
    "assert len(actions) == 1 and actions[0] == np.argmax(means)\n",
    "assert len(states) == 1 and states[0] == 0\n",
    "assert len(rewards) == 1"
   ]
  },
  {
   "cell_type": "code",
   "execution_count": 129,
   "metadata": {},
   "outputs": [
    {
     "name": "stdout",
     "output_type": "stream",
     "text": [
      "[14.9223177]\n"
     ]
    }
   ],
   "source": [
    "print(rewards)"
   ]
  },
  {
   "cell_type": "code",
   "execution_count": null,
   "metadata": {},
   "outputs": [],
   "source": []
  }
 ],
 "metadata": {
  "kernelspec": {
   "display_name": "Python 3",
   "language": "python",
   "name": "python3"
  },
  "language_info": {
   "codemirror_mode": {
    "name": "ipython",
    "version": 3
   },
   "file_extension": ".py",
   "mimetype": "text/x-python",
   "name": "python",
   "nbconvert_exporter": "python",
   "pygments_lexer": "ipython3",
   "version": "3.8.2"
  }
 },
 "nbformat": 4 ,
 "nbformat_minor": 4
}
